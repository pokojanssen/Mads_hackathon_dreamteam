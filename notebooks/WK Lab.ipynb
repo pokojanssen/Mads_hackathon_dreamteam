{
 "cells": [
  {
   "cell_type": "code",
   "execution_count": 1,
   "metadata": {
    "application/vnd.databricks.v1+cell": {
     "cellMetadata": {
      "byteLimit": 2048000,
      "rowLimit": 10000
     },
     "inputWidgets": {},
     "nuid": "ede0f609-0594-4b7c-89ec-744ac2ba6d8e",
     "showTitle": false,
     "tableResultSettingsMap": {},
     "title": ""
    }
   },
   "outputs": [
    {
     "name": "stderr",
     "output_type": "stream",
     "text": [
      "2024-11-25 16:09:34.982279: I tensorflow/core/util/port.cc:153] oneDNN custom operations are on. You may see slightly different numerical results due to floating-point round-off errors from different computation orders. To turn them off, set the environment variable `TF_ENABLE_ONEDNN_OPTS=0`.\n",
      "2024-11-25 16:09:34.999166: E external/local_xla/xla/stream_executor/cuda/cuda_fft.cc:477] Unable to register cuFFT factory: Attempting to register factory for plugin cuFFT when one has already been registered\n",
      "WARNING: All log messages before absl::InitializeLog() is called are written to STDERR\n",
      "E0000 00:00:1732547375.017694 2159356 cuda_dnn.cc:8310] Unable to register cuDNN factory: Attempting to register factory for plugin cuDNN when one has already been registered\n",
      "E0000 00:00:1732547375.023333 2159356 cuda_blas.cc:1418] Unable to register cuBLAS factory: Attempting to register factory for plugin cuBLAS when one has already been registered\n",
      "2024-11-25 16:09:35.042500: I tensorflow/core/platform/cpu_feature_guard.cc:210] This TensorFlow binary is optimized to use available CPU instructions in performance-critical operations.\n",
      "To enable the following instructions: AVX2 AVX512F AVX512_VNNI FMA, in other operations, rebuild TensorFlow with the appropriate compiler flags.\n"
     ]
    }
   ],
   "source": [
    "# Import libraries\n",
    "from sklearn.preprocessing import StandardScaler\n",
    "from sklearn.metrics import classification_report, accuracy_score, recall_score\n",
    "from imblearn.over_sampling import SMOTE\n",
    "from sklearn.linear_model import LogisticRegression\n",
    "from sklearn.ensemble import RandomForestClassifier\n",
    "from sklearn.svm import SVC\n",
    "from tensorflow.keras.models import Sequential\n",
    "from tensorflow.keras.layers import Dense\n",
    "from tensorflow.keras.utils import to_categorical\n",
    "from tensorflow.keras.callbacks import EarlyStopping\n",
    "from tensorflow.keras.layers import Dense, Dropout\n",
    "from keras.optimizers import SGD\n",
    "import pandas as pd"
   ]
  },
  {
   "cell_type": "code",
   "execution_count": 2,
   "metadata": {},
   "outputs": [
    {
     "name": "stderr",
     "output_type": "stream",
     "text": [
      "2024-11-25 16:09:36.513450: E external/local_xla/xla/stream_executor/cuda/cuda_driver.cc:152] failed call to cuInit: INTERNAL: CUDA error: Failed call to cuInit: CUDA_ERROR_NO_DEVICE: no CUDA-capable device is detected\n",
      "2024-11-25 16:09:36.513490: I external/local_xla/xla/stream_executor/cuda/cuda_diagnostics.cc:137] retrieving CUDA diagnostic information for host: janssenp2.mads-han.src.surf-hosted.nl\n",
      "2024-11-25 16:09:36.513495: I external/local_xla/xla/stream_executor/cuda/cuda_diagnostics.cc:144] hostname: janssenp2.mads-han.src.surf-hosted.nl\n",
      "2024-11-25 16:09:36.513650: I external/local_xla/xla/stream_executor/cuda/cuda_diagnostics.cc:168] libcuda reported version is: 535.183.1\n",
      "2024-11-25 16:09:36.513668: I external/local_xla/xla/stream_executor/cuda/cuda_diagnostics.cc:172] kernel reported version is: 535.183.1\n",
      "2024-11-25 16:09:36.513672: I external/local_xla/xla/stream_executor/cuda/cuda_diagnostics.cc:259] kernel version seems to match DSO: 535.183.1\n"
     ]
    }
   ],
   "source": [
    "import os\n",
    "import tensorflow as tf\n",
    "\n",
    "# Forceer geen GPU gebruik\n",
    "os.environ[\"CUDA_VISIBLE_DEVICES\"] = \"-1\"\n",
    "tf.config.set_visible_devices([], 'GPU')"
   ]
  },
  {
   "cell_type": "code",
   "execution_count": 25,
   "metadata": {
    "application/vnd.databricks.v1+cell": {
     "cellMetadata": {
      "byteLimit": 2048000,
      "rowLimit": 10000
     },
     "inputWidgets": {},
     "nuid": "fbfdb36e-2820-4de8-a389-b993f186e48c",
     "showTitle": false,
     "tableResultSettingsMap": {},
     "title": ""
    }
   },
   "outputs": [],
   "source": [
    "# Stel de padlocatie in van het Parquet-bestand\n",
    "path_train =  '../../Mads_hackathon_dreamteam/data/raw/heart_big_train.parq'\n",
    "# path_valid = '../../Mads_hackathon_dreamteam/data/raw/heart_big_valid.parq'\n",
    "path_valid = '../../Mads_hackathon_dreamteam/data/raw/heart_big_test.parq'\n",
    "\n",
    "# path_test = '../../Mads_hackathon_dreamteam/data/raw/heart_big_test.parq'\n",
    "\n",
    "#import dataframe\n",
    "df_valid = pd.read_parquet(path_valid)\n",
    "df_train = pd.read_parquet(path_train)\n",
    "# df_test = pd.read_parquet(path_test)"
   ]
  },
  {
   "cell_type": "code",
   "execution_count": 26,
   "metadata": {
    "application/vnd.databricks.v1+cell": {
     "cellMetadata": {
      "byteLimit": 2048000,
      "rowLimit": 10000
     },
     "inputWidgets": {},
     "nuid": "5f05c208-50b6-4dcb-bbfa-740b7be82f3d",
     "showTitle": false,
     "tableResultSettingsMap": {},
     "title": ""
    }
   },
   "outputs": [],
   "source": [
    "# Features (X) en target (y) splitsen\n",
    "X_train = df_train.iloc[:, :-1].values  # Alle kolommen behalve 'target'\n",
    "y_train = df_train.iloc[:, -1].values  # Laatste kolom is 'target'\n",
    "\n",
    "X_valid = df_valid.iloc[:, :-1].values\n",
    "y_valid = df_valid.iloc[:, -1].values\n",
    "\n",
    "# Schalen van features\n",
    "scaler = StandardScaler()\n",
    "X_train = scaler.fit_transform(X_train)\n",
    "X_valid = scaler.transform(X_valid)\n",
    "\n",
    "# Klassenbalans corrigeren met SMOTE\n",
    "smote = SMOTE(random_state=42)\n",
    "X_train_balanced, y_train_balanced = smote.fit_resample(X_train, y_train)\n",
    "\n",
    "# Functie om TP-rate per klasse te berekenen\n",
    "def calculate_tp_rate(y_true, y_pred):\n",
    "    class_recall = recall_score(y_true, y_pred, average=None)  # Recall per klasse\n",
    "    return {f\"Class {i}\": recall for i, recall in enumerate(class_recall)}\n",
    "\n",
    "# Evaluatie functie\n",
    "def evaluate_model(model, X_valid, y_valid):\n",
    "    y_pred = model.predict(X_valid)\n",
    "    accuracy = accuracy_score(y_valid, y_pred)\n",
    "    tp_rates = calculate_tp_rate(y_valid, y_pred)\n",
    "    print(f\"Accuracy: {accuracy}\")\n",
    "    print(\"TP Rates per class:\", tp_rates)\n",
    "    print(\"Classification Report:\\n\", classification_report(y_valid, y_pred))\n"
   ]
  },
  {
   "cell_type": "code",
   "execution_count": 14,
   "metadata": {},
   "outputs": [
    {
     "name": "stdout",
     "output_type": "stream",
     "text": [
      "\n",
      "--- Neural Network ---\n"
     ]
    },
    {
     "name": "stderr",
     "output_type": "stream",
     "text": [
      "/home/pjanssen/Mads_hackathon_dreamteam/.venv/lib/python3.11/site-packages/keras/src/layers/core/dense.py:87: UserWarning: Do not pass an `input_shape`/`input_dim` argument to a layer. When using Sequential models, prefer using an `Input(shape)` object as the first layer in the model instead.\n",
      "  super().__init__(activity_regularizer=activity_regularizer, **kwargs)\n"
     ]
    },
    {
     "name": "stdout",
     "output_type": "stream",
     "text": [
      "Epoch 1/50\n",
      "\u001b[1m11324/11324\u001b[0m \u001b[32m━━━━━━━━━━━━━━━━━━━━\u001b[0m\u001b[37m\u001b[0m \u001b[1m19s\u001b[0m 2ms/step - accuracy: 0.7999 - loss: 0.5399 - val_accuracy: 0.8922 - val_loss: 0.2660\n",
      "Epoch 2/50\n",
      "\u001b[1m11324/11324\u001b[0m \u001b[32m━━━━━━━━━━━━━━━━━━━━\u001b[0m\u001b[37m\u001b[0m \u001b[1m18s\u001b[0m 2ms/step - accuracy: 0.9211 - loss: 0.2303 - val_accuracy: 0.9354 - val_loss: 0.1983\n",
      "Epoch 3/50\n",
      "\u001b[1m11324/11324\u001b[0m \u001b[32m━━━━━━━━━━━━━━━━━━━━\u001b[0m\u001b[37m\u001b[0m \u001b[1m19s\u001b[0m 2ms/step - accuracy: 0.9384 - loss: 0.1877 - val_accuracy: 0.9353 - val_loss: 0.1969\n",
      "Epoch 4/50\n",
      "\u001b[1m11324/11324\u001b[0m \u001b[32m━━━━━━━━━━━━━━━━━━━━\u001b[0m\u001b[37m\u001b[0m \u001b[1m20s\u001b[0m 2ms/step - accuracy: 0.9447 - loss: 0.1670 - val_accuracy: 0.9321 - val_loss: 0.1934\n",
      "Epoch 5/50\n",
      "\u001b[1m11324/11324\u001b[0m \u001b[32m━━━━━━━━━━━━━━━━━━━━\u001b[0m\u001b[37m\u001b[0m \u001b[1m18s\u001b[0m 2ms/step - accuracy: 0.9498 - loss: 0.1549 - val_accuracy: 0.9503 - val_loss: 0.1610\n",
      "Epoch 6/50\n",
      "\u001b[1m11324/11324\u001b[0m \u001b[32m━━━━━━━━━━━━━━━━━━━━\u001b[0m\u001b[37m\u001b[0m \u001b[1m24s\u001b[0m 2ms/step - accuracy: 0.9529 - loss: 0.1459 - val_accuracy: 0.9545 - val_loss: 0.1424\n",
      "Epoch 7/50\n",
      "\u001b[1m11324/11324\u001b[0m \u001b[32m━━━━━━━━━━━━━━━━━━━━\u001b[0m\u001b[37m\u001b[0m \u001b[1m19s\u001b[0m 2ms/step - accuracy: 0.9558 - loss: 0.1389 - val_accuracy: 0.9462 - val_loss: 0.1657\n",
      "Epoch 8/50\n",
      "\u001b[1m11324/11324\u001b[0m \u001b[32m━━━━━━━━━━━━━━━━━━━━\u001b[0m\u001b[37m\u001b[0m \u001b[1m18s\u001b[0m 2ms/step - accuracy: 0.9587 - loss: 0.1307 - val_accuracy: 0.9473 - val_loss: 0.1689\n",
      "Epoch 9/50\n",
      "\u001b[1m11324/11324\u001b[0m \u001b[32m━━━━━━━━━━━━━━━━━━━━\u001b[0m\u001b[37m\u001b[0m \u001b[1m21s\u001b[0m 2ms/step - accuracy: 0.9601 - loss: 0.1267 - val_accuracy: 0.9532 - val_loss: 0.1440\n",
      "\u001b[1m343/343\u001b[0m \u001b[32m━━━━━━━━━━━━━━━━━━━━\u001b[0m\u001b[37m\u001b[0m \u001b[1m0s\u001b[0m 1ms/step  \n",
      "Neural Network Accuracy: 0.9545039283756623\n",
      "TP Rates per class: {'Class 0': np.float64(0.9571696655259962), 'Class 1': np.float64(0.8489208633093526), 'Class 2': np.float64(0.9350828729281768), 'Class 3': np.float64(0.8888888888888888), 'Class 4': np.float64(0.9850746268656716)}\n",
      "Classification Report:\n",
      "               precision    recall  f1-score   support\n",
      "\n",
      "         0.0       0.99      0.96      0.97      9059\n",
      "         1.0       0.50      0.85      0.63       278\n",
      "         2.0       0.91      0.94      0.92       724\n",
      "         3.0       0.43      0.89      0.58        81\n",
      "         4.0       0.96      0.99      0.97       804\n",
      "\n",
      "    accuracy                           0.95     10946\n",
      "   macro avg       0.76      0.92      0.82     10946\n",
      "weighted avg       0.97      0.95      0.96     10946\n",
      "\n"
     ]
    }
   ],
   "source": [
    "\n",
    "# Zorg ervoor dat de data gebalanceerd is\n",
    "smote = SMOTE(random_state=42)\n",
    "X_train_balanced, y_train_balanced = smote.fit_resample(X_train, y_train)\n",
    "\n",
    "# Neural Network Model met Dropout en EarlyStopping\n",
    "print(\"\\n--- Neural Network ---\")\n",
    "nn_model = Sequential()\n",
    "\n",
    "# Eerste verborgen laag met Dropout\n",
    "nn_model.add(Dense(128, activation='relu', input_shape=(X_train_balanced.shape[1],)))\n",
    "nn_model.add(Dropout(0.3))  # Dropout laag om overfitting te voorkomen\n",
    "# Tweede verborgen laag\n",
    "nn_model.add(Dense(128, activation='relu'))\n",
    "nn_model.add(Dropout(0.3))  # Dropout laag\n",
    "# Derde verborgen laag\n",
    "nn_model.add(Dense(64, activation='relu'))\n",
    "nn_model.add(Dropout(0.3))  # Dropout laag\n",
    "# Vierde verborgen laag\n",
    "nn_model.add(Dense(32, activation='relu'))\n",
    "nn_model.add(Dropout(0.3))  # Dropout laag\n",
    "\n",
    "# Output laag voor 5 klassen\n",
    "nn_model.add(Dense(5, activation='softmax'))\n",
    "\n",
    "# Compileer het model\n",
    "nn_model.compile(optimizer='adam', loss='sparse_categorical_crossentropy', metrics=['accuracy'])\n",
    "# nn_model.compile(optimizer=SGD(learning_rate=0.01, momentum=0.9), loss='sparse_categorical_crossentropy', metrics=['accuracy'])\n",
    "\n",
    "\n",
    "# Early stopping om overfitting te voorkomen\n",
    "early_stopping = EarlyStopping(monitor='val_loss', patience=3, restore_best_weights=True)\n",
    "\n",
    "# Train het model\n",
    "nn_model.fit(X_train_balanced, y_train_balanced, epochs=50, batch_size=32, verbose=1, \n",
    "             validation_data=(X_valid, y_valid), callbacks=[early_stopping])\n",
    "\n",
    "# Evaluatie van het Neural Network\n",
    "y_pred_nn = nn_model.predict(X_valid).argmax(axis=1)\n",
    "\n",
    "# Bereken accuracy en TP rate per klasse\n",
    "accuracy_nn = accuracy_score(y_valid, y_pred_nn)\n",
    "tp_rates_nn = calculate_tp_rate(y_valid, y_pred_nn)\n",
    "\n",
    "# Print de resultaten\n",
    "print(f\"Neural Network Accuracy: {accuracy_nn}\")\n",
    "print(\"TP Rates per class:\", tp_rates_nn)\n",
    "print(\"Classification Report:\\n\", classification_report(y_valid, y_pred_nn))\n",
    "\n"
   ]
  },
  {
   "cell_type": "code",
   "execution_count": 27,
   "metadata": {},
   "outputs": [
    {
     "name": "stdout",
     "output_type": "stream",
     "text": [
      "\u001b[1m343/343\u001b[0m \u001b[32m━━━━━━━━━━━━━━━━━━━━\u001b[0m\u001b[37m\u001b[0m \u001b[1m0s\u001b[0m 1ms/step\n",
      "Neural Network Accuracy: 0.9510323405810341\n",
      "TP Rates per class: {'Class 0': np.float64(0.9544099790263826), 'Class 1': np.float64(0.7877697841726619), 'Class 2': np.float64(0.9337016574585635), 'Class 3': np.float64(0.9135802469135802), 'Class 4': np.float64(0.9888059701492538)}\n",
      "Classification Report:\n",
      "               precision    recall  f1-score   support\n",
      "\n",
      "         0.0       0.99      0.95      0.97      9059\n",
      "         1.0       0.44      0.79      0.57       278\n",
      "         2.0       0.91      0.93      0.92       724\n",
      "         3.0       0.43      0.91      0.59        81\n",
      "         4.0       0.98      0.99      0.98       804\n",
      "\n",
      "    accuracy                           0.95     10946\n",
      "   macro avg       0.75      0.92      0.81     10946\n",
      "weighted avg       0.97      0.95      0.96     10946\n",
      "\n"
     ]
    }
   ],
   "source": [
    "# Evaluatie van het Neural Network\n",
    "y_pred_nn = nn_model.predict(X_valid).argmax(axis=1)\n",
    "\n",
    "# Bereken accuracy en TP rate per klasse\n",
    "accuracy_nn = accuracy_score(y_valid, y_pred_nn)\n",
    "tp_rates_nn = calculate_tp_rate(y_valid, y_pred_nn)\n",
    "\n",
    "# Print de resultaten\n",
    "print(f\"Neural Network Accuracy: {accuracy_nn}\")\n",
    "print(\"TP Rates per class:\", tp_rates_nn)\n",
    "print(\"Classification Report:\\n\", classification_report(y_valid, y_pred_nn))"
   ]
  },
  {
   "cell_type": "code",
   "execution_count": 28,
   "metadata": {},
   "outputs": [
    {
     "name": "stdout",
     "output_type": "stream",
     "text": [
      "\u001b[1m343/343\u001b[0m \u001b[32m━━━━━━━━━━━━━━━━━━━━\u001b[0m\u001b[37m\u001b[0m \u001b[1m0s\u001b[0m 1ms/step\n"
     ]
    }
   ],
   "source": [
    "from sklearn.metrics import confusion_matrix\n",
    "import numpy as np\n",
    "\n",
    "# Predict class probabilities\n",
    "y_pred_probs = nn_model.predict(X_valid)\n",
    "\n",
    "# Convert probabilities to predicted classes\n",
    "y_pred_classes = y_pred_probs.argmax(axis=1)  # Select class with the highest probability\n"
   ]
  },
  {
   "cell_type": "code",
   "execution_count": 29,
   "metadata": {},
   "outputs": [],
   "source": [
    "# Compute the confusion matrix\n",
    "cm = confusion_matrix(y_valid, y_pred_classes, labels=[0, 1, 2, 3, 4])\n",
    "\n",
    "# Normalize confusion matrix\n",
    "cm_normalized = cm.astype('float') / cm.sum(axis=1)[:, np.newaxis]"
   ]
  },
  {
   "cell_type": "code",
   "execution_count": 30,
   "metadata": {},
   "outputs": [
    {
     "data": {
      "image/png": "[encoded data removed]",
      "text/plain": [
       "<Figure size 800x600 with 2 Axes>"
      ]
     },
     "metadata": {},
     "output_type": "display_data"
    }
   ],
   "source": [
    "def plot_confusion_matrix_normalized(cm, class_names):\n",
    "    plt.figure(figsize=(8, 6))\n",
    "    plt.imshow(cm, interpolation='nearest', cmap=plt.get_cmap('Reds'))\n",
    "    plt.title(\"Normalized Confusion Matrix\")\n",
    "    plt.colorbar()\n",
    "\n",
    "    tick_marks = np.arange(len(class_names))\n",
    "    plt.xticks(tick_marks, class_names, rotation=45)\n",
    "    plt.yticks(tick_marks, class_names)\n",
    "\n",
    "    # Add percentages as text annotations\n",
    "    for i, j in np.ndindex(cm.shape):\n",
    "        plt.text(j, i, f\"{cm[i, j]:.2%}\",\n",
    "                 horizontalalignment=\"center\",\n",
    "                 color=\"white\" if cm[i, j] > 0.5 else \"black\")\n",
    "\n",
    "    plt.ylabel('True label')\n",
    "    plt.xlabel('Predicted label')\n",
    "    plt.tight_layout()\n",
    "\n",
    "# Class names for the confusion matrix\n",
    "class_names = [f\"Class {i}\" for i in range(5)]\n",
    "\n",
    "# Plot the normalized confusion matrix\n",
    "plot_confusion_matrix_normalized(cm_normalized, class_names)\n",
    "plt.show()\n"
   ]
  }
 ],
 "metadata": {
  "application/vnd.databricks.v1+notebook": {
   "dashboards": [],
   "environmentMetadata": {
    "base_environment": "",
    "client": "1"
   },
   "language": "python",
   "notebookMetadata": {
    "pythonIndentUnit": 4
   },
   "notebookName": "WK Lab",
   "widgets": {}
  },
  "kernelspec": {
   "display_name": ".venv",
   "language": "python",
   "name": "python3"
  },
  "language_info": {
   "codemirror_mode": {
    "name": "ipython",
    "version": 3
   },
   "file_extension": ".py",
   "mimetype": "text/x-python",
   "name": "python",
   "nbconvert_exporter": "python",
   "pygments_lexer": "ipython3",
   "version": "3.11.10"
  }
 },
 "nbformat": 4,
 "nbformat_minor": 0
}
