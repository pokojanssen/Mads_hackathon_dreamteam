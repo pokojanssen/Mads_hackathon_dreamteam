{
 "cells": [
  {
   "cell_type": "code",
   "execution_count": 1,
   "metadata": {
    "application/vnd.databricks.v1+cell": {
     "cellMetadata": {
      "byteLimit": 2048000,
      "rowLimit": 10000
     },
     "inputWidgets": {},
     "nuid": "ede0f609-0594-4b7c-89ec-744ac2ba6d8e",
     "showTitle": false,
     "tableResultSettingsMap": {},
     "title": ""
    }
   },
   "outputs": [
    {
     "name": "stderr",
     "output_type": "stream",
     "text": [
      "2024-11-25 16:09:34.982279: I tensorflow/core/util/port.cc:153] oneDNN custom operations are on. You may see slightly different numerical results due to floating-point round-off errors from different computation orders. To turn them off, set the environment variable `TF_ENABLE_ONEDNN_OPTS=0`.\n",
      "2024-11-25 16:09:34.999166: E external/local_xla/xla/stream_executor/cuda/cuda_fft.cc:477] Unable to register cuFFT factory: Attempting to register factory for plugin cuFFT when one has already been registered\n",
      "WARNING: All log messages before absl::InitializeLog() is called are written to STDERR\n",
      "E0000 00:00:1732547375.017694 2159356 cuda_dnn.cc:8310] Unable to register cuDNN factory: Attempting to register factory for plugin cuDNN when one has already been registered\n",
      "E0000 00:00:1732547375.023333 2159356 cuda_blas.cc:1418] Unable to register cuBLAS factory: Attempting to register factory for plugin cuBLAS when one has already been registered\n",
      "2024-11-25 16:09:35.042500: I tensorflow/core/platform/cpu_feature_guard.cc:210] This TensorFlow binary is optimized to use available CPU instructions in performance-critical operations.\n",
      "To enable the following instructions: AVX2 AVX512F AVX512_VNNI FMA, in other operations, rebuild TensorFlow with the appropriate compiler flags.\n"
     ]
    }
   ],
   "source": [
    "# Import libraries\n",
    "from sklearn.preprocessing import StandardScaler\n",
    "from sklearn.metrics import classification_report, accuracy_score, recall_score\n",
    "from imblearn.over_sampling import SMOTE\n",
    "from sklearn.linear_model import LogisticRegression\n",
    "from sklearn.ensemble import RandomForestClassifier\n",
    "from sklearn.svm import SVC\n",
    "from tensorflow.keras.models import Sequential\n",
    "from tensorflow.keras.layers import Dense\n",
    "from tensorflow.keras.utils import to_categorical\n",
    "from tensorflow.keras.callbacks import EarlyStopping\n",
    "from tensorflow.keras.layers import Dense, Dropout\n",
    "from keras.optimizers import SGD\n",
    "import pandas as pd"
   ]
  },
  {
   "cell_type": "code",
   "execution_count": 2,
   "metadata": {},
   "outputs": [
    {
     "name": "stderr",
     "output_type": "stream",
     "text": [
      "2024-11-25 16:09:36.513450: E external/local_xla/xla/stream_executor/cuda/cuda_driver.cc:152] failed call to cuInit: INTERNAL: CUDA error: Failed call to cuInit: CUDA_ERROR_NO_DEVICE: no CUDA-capable device is detected\n",
      "2024-11-25 16:09:36.513490: I external/local_xla/xla/stream_executor/cuda/cuda_diagnostics.cc:137] retrieving CUDA diagnostic information for host: janssenp2.mads-han.src.surf-hosted.nl\n",
      "2024-11-25 16:09:36.513495: I external/local_xla/xla/stream_executor/cuda/cuda_diagnostics.cc:144] hostname: janssenp2.mads-han.src.surf-hosted.nl\n",
      "2024-11-25 16:09:36.513650: I external/local_xla/xla/stream_executor/cuda/cuda_diagnostics.cc:168] libcuda reported version is: 535.183.1\n",
      "2024-11-25 16:09:36.513668: I external/local_xla/xla/stream_executor/cuda/cuda_diagnostics.cc:172] kernel reported version is: 535.183.1\n",
      "2024-11-25 16:09:36.513672: I external/local_xla/xla/stream_executor/cuda/cuda_diagnostics.cc:259] kernel version seems to match DSO: 535.183.1\n"
     ]
    }
   ],
   "source": [
    "import os\n",
    "import tensorflow as tf\n",
    "\n",
    "# Forceer geen GPU gebruik\n",
    "os.environ[\"CUDA_VISIBLE_DEVICES\"] = \"-1\"\n",
    "tf.config.set_visible_devices([], 'GPU')"
   ]
  },
  {
   "cell_type": "code",
   "execution_count": 3,
   "metadata": {
    "application/vnd.databricks.v1+cell": {
     "cellMetadata": {
      "byteLimit": 2048000,
      "rowLimit": 10000
     },
     "inputWidgets": {},
     "nuid": "fbfdb36e-2820-4de8-a389-b993f186e48c",
     "showTitle": false,
     "tableResultSettingsMap": {},
     "title": ""
    }
   },
   "outputs": [],
   "source": [
    "# Stel de padlocatie in van het Parquet-bestand\n",
    "path_train =  '../../Mads_hackathon_dreamteam/data/raw/heart_big_train.parq'\n",
    "path_valid = '../../Mads_hackathon_dreamteam/data/raw/heart_big_valid.parq'\n",
    "\n",
    "#import dataframe\n",
    "df_valid = pd.read_parquet(path_valid)\n",
    "df_train = pd.read_parquet(path_train)"
   ]
  },
  {
   "cell_type": "code",
   "execution_count": 4,
   "metadata": {
    "application/vnd.databricks.v1+cell": {
     "cellMetadata": {
      "byteLimit": 2048000,
      "rowLimit": 10000
     },
     "inputWidgets": {},
     "nuid": "5f05c208-50b6-4dcb-bbfa-740b7be82f3d",
     "showTitle": false,
     "tableResultSettingsMap": {},
     "title": ""
    }
   },
   "outputs": [],
   "source": [
    "# Features (X) en target (y) splitsen\n",
    "X_train = df_train.iloc[:, :-1].values  # Alle kolommen behalve 'target'\n",
    "y_train = df_train.iloc[:, -1].values  # Laatste kolom is 'target'\n",
    "\n",
    "X_valid = df_valid.iloc[:, :-1].values\n",
    "y_valid = df_valid.iloc[:, -1].values\n",
    "\n",
    "# Schalen van features\n",
    "scaler = StandardScaler()\n",
    "X_train = scaler.fit_transform(X_train)\n",
    "X_valid = scaler.transform(X_valid)\n",
    "\n",
    "# Klassenbalans corrigeren met SMOTE\n",
    "smote = SMOTE(random_state=42)\n",
    "X_train_balanced, y_train_balanced = smote.fit_resample(X_train, y_train)\n",
    "\n",
    "# Functie om TP-rate per klasse te berekenen\n",
    "def calculate_tp_rate(y_true, y_pred):\n",
    "    class_recall = recall_score(y_true, y_pred, average=None)  # Recall per klasse\n",
    "    return {f\"Class {i}\": recall for i, recall in enumerate(class_recall)}\n",
    "\n",
    "# Evaluatie functie\n",
    "def evaluate_model(model, X_valid, y_valid):\n",
    "    y_pred = model.predict(X_valid)\n",
    "    accuracy = accuracy_score(y_valid, y_pred)\n",
    "    tp_rates = calculate_tp_rate(y_valid, y_pred)\n",
    "    print(f\"Accuracy: {accuracy}\")\n",
    "    print(\"TP Rates per class:\", tp_rates)\n",
    "    print(\"Classification Report:\\n\", classification_report(y_valid, y_pred))\n"
   ]
  },
  {
   "cell_type": "code",
   "execution_count": 5,
   "metadata": {
    "application/vnd.databricks.v1+cell": {
     "cellMetadata": {
      "byteLimit": 2048000,
      "rowLimit": 10000
     },
     "inputWidgets": {},
     "nuid": "bdcf1ec1-c1f1-46c3-b656-b8266b426532",
     "showTitle": false,
     "tableResultSettingsMap": {},
     "title": ""
    }
   },
   "outputs": [
    {
     "name": "stdout",
     "output_type": "stream",
     "text": [
      "\n",
      "--- Neural Network ---\n"
     ]
    },
    {
     "name": "stderr",
     "output_type": "stream",
     "text": [
      "/home/pjanssen/Mads_hackathon_dreamteam/.venv/lib/python3.11/site-packages/keras/src/layers/core/dense.py:87: UserWarning: Do not pass an `input_shape`/`input_dim` argument to a layer. When using Sequential models, prefer using an `Input(shape)` object as the first layer in the model instead.\n",
      "  super().__init__(activity_regularizer=activity_regularizer, **kwargs)\n"
     ]
    },
    {
     "name": "stdout",
     "output_type": "stream",
     "text": [
      "Epoch 1/50\n",
      "\u001b[1m11324/11324\u001b[0m \u001b[32m━━━━━━━━━━━━━━━━━━━━\u001b[0m\u001b[37m\u001b[0m \u001b[1m17s\u001b[0m 1ms/step - accuracy: 0.8246 - loss: 0.4806 - val_accuracy: 0.9046 - val_loss: 0.2840\n",
      "Epoch 2/50\n",
      "\u001b[1m11324/11324\u001b[0m \u001b[32m━━━━━━━━━━━━━━━━━━━━\u001b[0m\u001b[37m\u001b[0m \u001b[1m19s\u001b[0m 2ms/step - accuracy: 0.9198 - loss: 0.2261 - val_accuracy: 0.9356 - val_loss: 0.2033\n",
      "Epoch 3/50\n",
      "\u001b[1m11324/11324\u001b[0m \u001b[32m━━━━━━━━━━━━━━━━━━━━\u001b[0m\u001b[37m\u001b[0m \u001b[1m16s\u001b[0m 1ms/step - accuracy: 0.9355 - loss: 0.1853 - val_accuracy: 0.9393 - val_loss: 0.1935\n",
      "Epoch 4/50\n",
      "\u001b[1m11324/11324\u001b[0m \u001b[32m━━━━━━━━━━━━━━━━━━━━\u001b[0m\u001b[37m\u001b[0m \u001b[1m16s\u001b[0m 1ms/step - accuracy: 0.9427 - loss: 0.1654 - val_accuracy: 0.9535 - val_loss: 0.1459\n",
      "Epoch 5/50\n",
      "\u001b[1m11324/11324\u001b[0m \u001b[32m━━━━━━━━━━━━━━━━━━━━\u001b[0m\u001b[37m\u001b[0m \u001b[1m17s\u001b[0m 1ms/step - accuracy: 0.9469 - loss: 0.1535 - val_accuracy: 0.9362 - val_loss: 0.1812\n",
      "Epoch 6/50\n",
      "\u001b[1m11324/11324\u001b[0m \u001b[32m━━━━━━━━━━━━━━━━━━━━\u001b[0m\u001b[37m\u001b[0m \u001b[1m19s\u001b[0m 2ms/step - accuracy: 0.9507 - loss: 0.1442 - val_accuracy: 0.9466 - val_loss: 0.1534\n",
      "Epoch 7/50\n",
      "\u001b[1m11324/11324\u001b[0m \u001b[32m━━━━━━━━━━━━━━━━━━━━\u001b[0m\u001b[37m\u001b[0m \u001b[1m17s\u001b[0m 1ms/step - accuracy: 0.9532 - loss: 0.1373 - val_accuracy: 0.9553 - val_loss: 0.1399\n",
      "Epoch 8/50\n",
      "\u001b[1m11324/11324\u001b[0m \u001b[32m━━━━━━━━━━━━━━━━━━━━\u001b[0m\u001b[37m\u001b[0m \u001b[1m15s\u001b[0m 1ms/step - accuracy: 0.9559 - loss: 0.1312 - val_accuracy: 0.9540 - val_loss: 0.1457\n",
      "Epoch 9/50\n",
      "\u001b[1m11324/11324\u001b[0m \u001b[32m━━━━━━━━━━━━━━━━━━━━\u001b[0m\u001b[37m\u001b[0m \u001b[1m25s\u001b[0m 2ms/step - accuracy: 0.9564 - loss: 0.1281 - val_accuracy: 0.9621 - val_loss: 0.1249\n",
      "Epoch 10/50\n",
      "\u001b[1m11324/11324\u001b[0m \u001b[32m━━━━━━━━━━━━━━━━━━━━\u001b[0m\u001b[37m\u001b[0m \u001b[1m17s\u001b[0m 1ms/step - accuracy: 0.9591 - loss: 0.1235 - val_accuracy: 0.9571 - val_loss: 0.1331\n",
      "Epoch 11/50\n",
      "\u001b[1m11324/11324\u001b[0m \u001b[32m━━━━━━━━━━━━━━━━━━━━\u001b[0m\u001b[37m\u001b[0m \u001b[1m16s\u001b[0m 1ms/step - accuracy: 0.9595 - loss: 0.1206 - val_accuracy: 0.9524 - val_loss: 0.1503\n",
      "Epoch 12/50\n",
      "\u001b[1m11324/11324\u001b[0m \u001b[32m━━━━━━━━━━━━━━━━━━━━\u001b[0m\u001b[37m\u001b[0m \u001b[1m18s\u001b[0m 2ms/step - accuracy: 0.9615 - loss: 0.1157 - val_accuracy: 0.9513 - val_loss: 0.1493\n",
      "\u001b[1m343/343\u001b[0m \u001b[32m━━━━━━━━━━━━━━━━━━━━\u001b[0m\u001b[37m\u001b[0m \u001b[1m0s\u001b[0m 1ms/step\n",
      "Neural Network Accuracy: 0.9620866069797186\n",
      "TP Rates per class: {'Class 0': np.float64(0.9673253118445745), 'Class 1': np.float64(0.8057553956834532), 'Class 2': np.float64(0.9461325966850829), 'Class 3': np.float64(0.8641975308641975), 'Class 4': np.float64(0.9813432835820896)}\n",
      "Classification Report:\n",
      "               precision    recall  f1-score   support\n",
      "\n",
      "         0.0       0.99      0.97      0.98      9059\n",
      "         1.0       0.52      0.81      0.63       278\n",
      "         2.0       0.90      0.95      0.93       724\n",
      "         3.0       0.64      0.86      0.73        81\n",
      "         4.0       0.98      0.98      0.98       804\n",
      "\n",
      "    accuracy                           0.96     10946\n",
      "   macro avg       0.81      0.91      0.85     10946\n",
      "weighted avg       0.97      0.96      0.96     10946\n",
      "\n"
     ]
    }
   ],
   "source": [
    "\n",
    "# Zorg ervoor dat de data gebalanceerd is\n",
    "smote = SMOTE(random_state=42)\n",
    "X_train_balanced, y_train_balanced = smote.fit_resample(X_train, y_train)\n",
    "\n",
    "# Neural Network Model met Dropout en EarlyStopping\n",
    "print(\"\\n--- Neural Network ---\")\n",
    "nn_model = Sequential()\n",
    "\n",
    "# Eerste verborgen laag met Dropout\n",
    "nn_model.add(Dense(128, activation='relu', input_shape=(X_train_balanced.shape[1],)))\n",
    "nn_model.add(Dropout(0.3))  # Dropout laag om overfitting te voorkomen\n",
    "# Tweede verborgen laag\n",
    "nn_model.add(Dense(64, activation='relu'))\n",
    "nn_model.add(Dropout(0.3))  # Dropout laag\n",
    "# derde verborgen laag\n",
    "nn_model.add(Dense(32, activation='selu'))\n",
    "nn_model.add(Dropout(0.3))  # Dropout laag\n",
    "\n",
    "# Output laag voor 5 klassen\n",
    "nn_model.add(Dense(5, activation='softmax'))\n",
    "\n",
    "# Compileer het model\n",
    "nn_model.compile(optimizer='adam', loss='sparse_categorical_crossentropy', metrics=['accuracy'])\n",
    "# nn_model.compile(optimizer=SGD(learning_rate=0.01, momentum=0.9), loss='sparse_categorical_crossentropy', metrics=['accuracy'])\n",
    "\n",
    "\n",
    "# Early stopping om overfitting te voorkomen\n",
    "early_stopping = EarlyStopping(monitor='val_loss', patience=3, restore_best_weights=True)\n",
    "\n",
    "# Train het model\n",
    "nn_model.fit(X_train_balanced, y_train_balanced, epochs=50, batch_size=32, verbose=1, \n",
    "             validation_data=(X_valid, y_valid), callbacks=[early_stopping])\n",
    "\n",
    "# Evaluatie van het Neural Network\n",
    "y_pred_nn = nn_model.predict(X_valid).argmax(axis=1)\n",
    "\n",
    "# Bereken accuracy en TP rate per klasse\n",
    "accuracy_nn = accuracy_score(y_valid, y_pred_nn)\n",
    "tp_rates_nn = calculate_tp_rate(y_valid, y_pred_nn)\n",
    "\n",
    "# Print de resultaten\n",
    "print(f\"Neural Network Accuracy: {accuracy_nn}\")\n",
    "print(\"TP Rates per class:\", tp_rates_nn)\n",
    "print(\"Classification Report:\\n\", classification_report(y_valid, y_pred_nn))\n",
    "\n"
   ]
  },
  {
   "cell_type": "code",
   "execution_count": 6,
   "metadata": {},
   "outputs": [
    {
     "name": "stdout",
     "output_type": "stream",
     "text": [
      "\n",
      "--- Neural Network ---\n"
     ]
    },
    {
     "name": "stderr",
     "output_type": "stream",
     "text": [
      "/home/pjanssen/Mads_hackathon_dreamteam/.venv/lib/python3.11/site-packages/keras/src/layers/core/dense.py:87: UserWarning: Do not pass an `input_shape`/`input_dim` argument to a layer. When using Sequential models, prefer using an `Input(shape)` object as the first layer in the model instead.\n",
      "  super().__init__(activity_regularizer=activity_regularizer, **kwargs)\n"
     ]
    },
    {
     "name": "stdout",
     "output_type": "stream",
     "text": [
      "Epoch 1/50\n",
      "\u001b[1m11324/11324\u001b[0m \u001b[32m━━━━━━━━━━━━━━━━━━━━\u001b[0m\u001b[37m\u001b[0m \u001b[1m19s\u001b[0m 2ms/step - accuracy: 0.8076 - loss: 0.5259 - val_accuracy: 0.9152 - val_loss: 0.2545\n",
      "Epoch 2/50\n",
      "\u001b[1m11324/11324\u001b[0m \u001b[32m━━━━━━━━━━━━━━━━━━━━\u001b[0m\u001b[37m\u001b[0m \u001b[1m22s\u001b[0m 2ms/step - accuracy: 0.9200 - loss: 0.2351 - val_accuracy: 0.9348 - val_loss: 0.1926\n",
      "Epoch 3/50\n",
      "\u001b[1m11324/11324\u001b[0m \u001b[32m━━━━━━━━━━━━━━━━━━━━\u001b[0m\u001b[37m\u001b[0m \u001b[1m19s\u001b[0m 2ms/step - accuracy: 0.9374 - loss: 0.1878 - val_accuracy: 0.9414 - val_loss: 0.1729\n",
      "Epoch 4/50\n",
      "\u001b[1m11324/11324\u001b[0m \u001b[32m━━━━━━━━━━━━━━━━━━━━\u001b[0m\u001b[37m\u001b[0m \u001b[1m16s\u001b[0m 1ms/step - accuracy: 0.9457 - loss: 0.1657 - val_accuracy: 0.9331 - val_loss: 0.1980\n",
      "Epoch 5/50\n",
      "\u001b[1m11324/11324\u001b[0m \u001b[32m━━━━━━━━━━━━━━━━━━━━\u001b[0m\u001b[37m\u001b[0m \u001b[1m22s\u001b[0m 2ms/step - accuracy: 0.9492 - loss: 0.1571 - val_accuracy: 0.9402 - val_loss: 0.1603\n",
      "Epoch 6/50\n",
      "\u001b[1m11324/11324\u001b[0m \u001b[32m━━━━━━━━━━━━━━━━━━━━\u001b[0m\u001b[37m\u001b[0m \u001b[1m22s\u001b[0m 2ms/step - accuracy: 0.9541 - loss: 0.1453 - val_accuracy: 0.9525 - val_loss: 0.1477\n",
      "Epoch 7/50\n",
      "\u001b[1m11324/11324\u001b[0m \u001b[32m━━━━━━━━━━━━━━━━━━━━\u001b[0m\u001b[37m\u001b[0m \u001b[1m18s\u001b[0m 2ms/step - accuracy: 0.9554 - loss: 0.1401 - val_accuracy: 0.9539 - val_loss: 0.1383\n",
      "Epoch 8/50\n",
      "\u001b[1m11324/11324\u001b[0m \u001b[32m━━━━━━━━━━━━━━━━━━━━\u001b[0m\u001b[37m\u001b[0m \u001b[1m21s\u001b[0m 2ms/step - accuracy: 0.9585 - loss: 0.1311 - val_accuracy: 0.9497 - val_loss: 0.1484\n",
      "Epoch 9/50\n",
      "\u001b[1m11324/11324\u001b[0m \u001b[32m━━━━━━━━━━━━━━━━━━━━\u001b[0m\u001b[37m\u001b[0m \u001b[1m38s\u001b[0m 2ms/step - accuracy: 0.9606 - loss: 0.1258 - val_accuracy: 0.9522 - val_loss: 0.1495\n",
      "Epoch 10/50\n",
      "\u001b[1m11324/11324\u001b[0m \u001b[32m━━━━━━━━━━━━━━━━━━━━\u001b[0m\u001b[37m\u001b[0m \u001b[1m24s\u001b[0m 2ms/step - accuracy: 0.9624 - loss: 0.1200 - val_accuracy: 0.9507 - val_loss: 0.1646\n",
      "\u001b[1m343/343\u001b[0m \u001b[32m━━━━━━━━━━━━━━━━━━━━\u001b[0m\u001b[37m\u001b[0m \u001b[1m0s\u001b[0m 1ms/step\n",
      "Neural Network Accuracy: 0.9538644253608625\n",
      "TP Rates per class: {'Class 0': np.float64(0.9566177282260735), 'Class 1': np.float64(0.8093525179856115), 'Class 2': np.float64(0.9447513812154696), 'Class 3': np.float64(0.9135802469135802), 'Class 4': np.float64(0.9850746268656716)}\n",
      "Classification Report:\n",
      "               precision    recall  f1-score   support\n",
      "\n",
      "         0.0       0.99      0.96      0.97      9059\n",
      "         1.0       0.50      0.81      0.62       278\n",
      "         2.0       0.88      0.94      0.91       724\n",
      "         3.0       0.51      0.91      0.65        81\n",
      "         4.0       0.94      0.99      0.96       804\n",
      "\n",
      "    accuracy                           0.95     10946\n",
      "   macro avg       0.77      0.92      0.82     10946\n",
      "weighted avg       0.97      0.95      0.96     10946\n",
      "\n"
     ]
    }
   ],
   "source": [
    "\n",
    "# Zorg ervoor dat de data gebalanceerd is\n",
    "smote = SMOTE(random_state=42)\n",
    "X_train_balanced, y_train_balanced = smote.fit_resample(X_train, y_train)\n",
    "\n",
    "# Neural Network Model met Dropout en EarlyStopping\n",
    "print(\"\\n--- Neural Network ---\")\n",
    "nn_model = Sequential()\n",
    "\n",
    "# Eerste verborgen laag met Dropout\n",
    "nn_model.add(Dense(128, activation='relu', input_shape=(X_train_balanced.shape[1],)))\n",
    "nn_model.add(Dropout(0.3))  # Dropout laag om overfitting te voorkomen\n",
    "# Tweede verborgen laag\n",
    "nn_model.add(Dense(128, activation='relu'))\n",
    "nn_model.add(Dropout(0.3))  # Dropout laag\n",
    "# Derde verborgen laag\n",
    "nn_model.add(Dense(64, activation='relu'))\n",
    "nn_model.add(Dropout(0.3))  # Dropout laag\n",
    "# Vierde verborgen laag\n",
    "nn_model.add(Dense(32, activation='relu'))\n",
    "nn_model.add(Dropout(0.3))  # Dropout laag\n",
    "\n",
    "# Output laag voor 5 klassen\n",
    "nn_model.add(Dense(5, activation='softmax'))\n",
    "\n",
    "# Compileer het model\n",
    "nn_model.compile(optimizer='adam', loss='sparse_categorical_crossentropy', metrics=['accuracy'])\n",
    "# nn_model.compile(optimizer=SGD(learning_rate=0.01, momentum=0.9), loss='sparse_categorical_crossentropy', metrics=['accuracy'])\n",
    "\n",
    "\n",
    "# Early stopping om overfitting te voorkomen\n",
    "early_stopping = EarlyStopping(monitor='val_loss', patience=3, restore_best_weights=True)\n",
    "\n",
    "# Train het model\n",
    "nn_model.fit(X_train_balanced, y_train_balanced, epochs=50, batch_size=32, verbose=1, \n",
    "             validation_data=(X_valid, y_valid), callbacks=[early_stopping])\n",
    "\n",
    "# Evaluatie van het Neural Network\n",
    "y_pred_nn = nn_model.predict(X_valid).argmax(axis=1)\n",
    "\n",
    "# Bereken accuracy en TP rate per klasse\n",
    "accuracy_nn = accuracy_score(y_valid, y_pred_nn)\n",
    "tp_rates_nn = calculate_tp_rate(y_valid, y_pred_nn)\n",
    "\n",
    "# Print de resultaten\n",
    "print(f\"Neural Network Accuracy: {accuracy_nn}\")\n",
    "print(\"TP Rates per class:\", tp_rates_nn)\n",
    "print(\"Classification Report:\\n\", classification_report(y_valid, y_pred_nn))\n",
    "\n"
   ]
  }
 ],
 "metadata": {
  "application/vnd.databricks.v1+notebook": {
   "dashboards": [],
   "environmentMetadata": {
    "base_environment": "",
    "client": "1"
   },
   "language": "python",
   "notebookMetadata": {
    "pythonIndentUnit": 4
   },
   "notebookName": "WK Lab",
   "widgets": {}
  },
  "kernelspec": {
   "display_name": ".venv",
   "language": "python",
   "name": "python3"
  },
  "language_info": {
   "codemirror_mode": {
    "name": "ipython",
    "version": 3
   },
   "file_extension": ".py",
   "mimetype": "text/x-python",
   "name": "python",
   "nbconvert_exporter": "python",
   "pygments_lexer": "ipython3",
   "version": "3.11.10"
  }
 },
 "nbformat": 4,
 "nbformat_minor": 0
}
